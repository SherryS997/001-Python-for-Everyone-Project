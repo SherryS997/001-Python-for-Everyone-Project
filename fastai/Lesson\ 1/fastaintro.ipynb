{
  "nbformat": 4,
  "nbformat_minor": 0,
  "metadata": {
    "colab": {
      "name": "fastaintro.ipynb",
      "provenance": [],
      "collapsed_sections": [],
      "authorship_tag": "ABX9TyPGcSCPckDn875gVoIOxps7",
      "include_colab_link": true
    },
    "kernelspec": {
      "name": "python3",
      "display_name": "Python 3"
    },
    "language_info": {
      "name": "python"
    },
    "accelerator": "GPU"
  },
  "cells": [
    {
      "cell_type": "markdown",
      "metadata": {
        "id": "view-in-github",
        "colab_type": "text"
      },
      "source": [
        "<a href=\"https://colab.research.google.com/github/SherryS997/001-Python-for-Everyone-Project/blob/main/fastai/Lesson%5C%201/fastaintro.ipynb\" target=\"_parent\"><img src=\"https://colab.research.google.com/assets/colab-badge.svg\" alt=\"Open In Colab\"/></a>"
      ]
    },
    {
      "cell_type": "code",
      "metadata": {
        "colab": {
          "base_uri": "https://localhost:8080/"
        },
        "id": "jLCRl0wpK7EW",
        "outputId": "4b13c245-15e3-46f5-92ea-45f78786a1d7"
      },
      "source": [
        "#Test repo\n",
        "\n",
        "print('mango')"
      ],
      "execution_count": 4,
      "outputs": [
        {
          "output_type": "stream",
          "text": [
            "mango\n"
          ],
          "name": "stdout"
        }
      ]
    }
  ]
}